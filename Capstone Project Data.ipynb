{
    "cells": [
        {
            "cell_type": "markdown",
            "metadata": {
                "collapsed": true
            },
            "source": "## Data\n\nBased on the problem the Stakeholders have presented, the following data will be used for the analysis:\n\n- U.S. Census data showing the amount of Millennials within Somerville. This will confirm the assumption that there is a high population of residents over 21.\n- Foursquare location data to identify how many breweries are in a given area. Venue location data will be used to identify \"Breweries\" within Somerville.\n- Somerville will be distributed by Zip Code, which there are three zip codes in the city. The zip codes will be transformed into a dataframe. The list of zip codes has been retrieved from https://www.americantowns.com/somerville-ma/zip-code/"
        },
        {
            "cell_type": "code",
            "execution_count": null,
            "metadata": {},
            "outputs": [],
            "source": ""
        }
    ],
    "metadata": {
        "kernelspec": {
            "display_name": "Python 3.7",
            "language": "python",
            "name": "python3"
        },
        "language_info": {
            "codemirror_mode": {
                "name": "ipython",
                "version": 3
            },
            "file_extension": ".py",
            "mimetype": "text/x-python",
            "name": "python",
            "nbconvert_exporter": "python",
            "pygments_lexer": "ipython3",
            "version": "3.7.10"
        }
    },
    "nbformat": 4,
    "nbformat_minor": 1
}