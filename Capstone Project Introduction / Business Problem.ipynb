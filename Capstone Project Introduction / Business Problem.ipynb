{
    "cells": [
        {
            "cell_type": "markdown",
            "metadata": {
                "collapsed": true
            },
            "source": "## Introduction / Business Problem\n\nStakeholders for a team of Master Brewers are interested in opening a new Brewery. According to the Brewers Association, between 2014-2018 the number of breweries in the United States had a growth rate of 12.9%. Though masters of their craft, the Stakeholders are unsure as to where the place the location of their new Brewery, however they have decided the city of choice is Somerville, MA. This decision was based on 5-Year U.S. Census' American Community Survey from 2017, which found that Somerville is the number-one city to open a brewery. For a brewery to be successful, the location needs to be centered around a population of residents over 21, which Somerville has one of the highest populations of residents over 21.\n\nThe Stakeholders would like to identify which neighborhood has the highest cluster of Millennials in Somerville, which is the primary target market. Additionally, the location should not be too close in proximity to another brewery."
        },
        {
            "cell_type": "code",
            "execution_count": null,
            "metadata": {},
            "outputs": [],
            "source": ""
        }
    ],
    "metadata": {
        "kernelspec": {
            "display_name": "Python 3.7",
            "language": "python",
            "name": "python3"
        },
        "language_info": {
            "codemirror_mode": {
                "name": "ipython",
                "version": 3
            },
            "file_extension": ".py",
            "mimetype": "text/x-python",
            "name": "python",
            "nbconvert_exporter": "python",
            "pygments_lexer": "ipython3",
            "version": "3.7.10"
        }
    },
    "nbformat": 4,
    "nbformat_minor": 1
}